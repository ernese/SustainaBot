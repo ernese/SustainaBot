{
 "cells": [
  {
   "cell_type": "markdown",
   "metadata": {},
   "source": [
    "# Time Dimension Processor\n",
    "\n",
    "Creates the time dimension table for the Philippine socioeconomic data medallion architecture.\n",
    "Generates comprehensive time records from 1980-2030 with Philippine fiscal year support.\n",
    "\n",
    "**Output**: `dim_time` with calendar and fiscal year hierarchies"
   ]
  },
  {
   "cell_type": "code",
   "execution_count": 1,
   "metadata": {},
   "outputs": [],
   "source": [
    "import os\n",
    "import warnings\n",
    "warnings.filterwarnings('ignore')\n",
    "\n",
    "from pyspark.sql import SparkSession\n",
    "from pyspark.sql.functions import *\n",
    "from pyspark.sql.types import *\n",
    "import json\n",
    "from datetime import datetime, date"
   ]
  },
  {
   "cell_type": "code",
   "execution_count": 2,
   "metadata": {},
   "outputs": [
    {
     "name": "stderr",
     "output_type": "stream",
     "text": [
      "your 131072x1 screen size is bogus. expect trouble\n",
      "25/08/18 21:35:48 WARN Utils: Your hostname, 3rnese resolves to a loopback address: 127.0.1.1; using 10.255.255.254 instead (on interface lo)\n",
      "25/08/18 21:35:48 WARN Utils: Set SPARK_LOCAL_IP if you need to bind to another address\n"
     ]
    },
    {
     "name": "stdout",
     "output_type": "stream",
     "text": [
      ":: loading settings :: url = jar:file:/home/ernese/miniconda3/envs/SO/lib/python3.10/site-packages/pyspark/jars/ivy-2.5.1.jar!/org/apache/ivy/core/settings/ivysettings.xml\n"
     ]
    },
    {
     "name": "stderr",
     "output_type": "stream",
     "text": [
      "Ivy Default Cache set to: /home/ernese/.ivy2/cache\n",
      "The jars for the packages stored in: /home/ernese/.ivy2/jars\n",
      "io.delta#delta-core_2.12 added as a dependency\n",
      ":: resolving dependencies :: org.apache.spark#spark-submit-parent-638db4d0-311f-471f-ad71-885ae723fefc;1.0\n",
      "\tconfs: [default]\n",
      "\tfound io.delta#delta-core_2.12;2.4.0 in central\n",
      "\tfound io.delta#delta-storage;2.4.0 in central\n",
      "\tfound org.antlr#antlr4-runtime;4.9.3 in central\n",
      ":: resolution report :: resolve 171ms :: artifacts dl 9ms\n",
      "\t:: modules in use:\n",
      "\tio.delta#delta-core_2.12;2.4.0 from central in [default]\n",
      "\tio.delta#delta-storage;2.4.0 from central in [default]\n",
      "\torg.antlr#antlr4-runtime;4.9.3 from central in [default]\n",
      "\t---------------------------------------------------------------------\n",
      "\t|                  |            modules            ||   artifacts   |\n",
      "\t|       conf       | number| search|dwnlded|evicted|| number|dwnlded|\n",
      "\t---------------------------------------------------------------------\n",
      "\t|      default     |   3   |   0   |   0   |   0   ||   3   |   0   |\n",
      "\t---------------------------------------------------------------------\n",
      ":: retrieving :: org.apache.spark#spark-submit-parent-638db4d0-311f-471f-ad71-885ae723fefc\n",
      "\tconfs: [default]\n",
      "\t0 artifacts copied, 3 already retrieved (0kB/5ms)\n",
      "25/08/18 21:35:49 WARN NativeCodeLoader: Unable to load native-hadoop library for your platform... using builtin-java classes where applicable\n",
      "Setting default log level to \"WARN\".\n",
      "To adjust logging level use sc.setLogLevel(newLevel). For SparkR, use setLogLevel(newLevel).\n"
     ]
    },
    {
     "name": "stdout",
     "output_type": "stream",
     "text": [
      "Spark Version: 3.4.0\n",
      "Application: TimeDimensionProcessor\n",
      "Delta Lake support: io.delta.sql.DeltaSparkSessionExtension\n"
     ]
    }
   ],
   "source": [
    "# Initialize Spark Session with proper Delta Lake configuration\n",
    "spark = SparkSession.builder \\\n",
    "    .appName(\"TimeDimensionProcessor\") \\\n",
    "    .config(\"spark.sql.extensions\", \"io.delta.sql.DeltaSparkSessionExtension\") \\\n",
    "    .config(\"spark.sql.catalog.spark_catalog\", \"org.apache.spark.sql.delta.catalog.DeltaCatalog\") \\\n",
    "    .config(\"spark.sql.adaptive.enabled\", \"true\") \\\n",
    "    .config(\"spark.sql.adaptive.coalescePartitions.enabled\", \"true\") \\\n",
    "    .config(\"spark.driver.memory\", \"4g\") \\\n",
    "    .config(\"spark.executor.memory\", \"4g\") \\\n",
    "    .config(\"spark.jars.packages\", \"io.delta:delta-core_2.12:2.4.0\") \\\n",
    "    .config(\"spark.sql.warehouse.dir\", \"/tmp/spark-warehouse\") \\\n",
    "    .getOrCreate()\n",
    "\n",
    "spark.sparkContext.setLogLevel(\"ERROR\")\n",
    "\n",
    "print(f\"Spark Version: {spark.version}\")\n",
    "print(f\"Application: {spark.sparkContext.appName}\")\n",
    "print(f\"Delta Lake support: {spark.conf.get('spark.sql.extensions')}\")"
   ]
  },
  {
   "cell_type": "code",
   "execution_count": 3,
   "metadata": {},
   "outputs": [
    {
     "name": "stdout",
     "output_type": "stream",
     "text": [
      "Silver Path: /home/ernese/miniconda3/envs/SO/New_SO/final-spark-silver\n",
      "Processing Time: 2025-08-18 21:35:52.133873\n"
     ]
    }
   ],
   "source": [
    "# Configuration\n",
    "SILVER_PATH = \"/home/ernese/miniconda3/envs/SO/New_SO/final-spark-silver\"\n",
    "PROCESSING_TIMESTAMP = datetime.now()\n",
    "\n",
    "os.makedirs(SILVER_PATH, exist_ok=True)\n",
    "\n",
    "print(f\"Silver Path: {SILVER_PATH}\")\n",
    "print(f\"Processing Time: {PROCESSING_TIMESTAMP}\")"
   ]
  },
  {
   "cell_type": "markdown",
   "metadata": {},
   "source": [
    "## Generate Time Dimension Data"
   ]
  },
  {
   "cell_type": "code",
   "execution_count": 4,
   "metadata": {},
   "outputs": [
    {
     "name": "stdout",
     "output_type": "stream",
     "text": [
      "Generating time dimension from 1980 to 2030...\n",
      "Philippine fiscal year: April to March\n",
      "Generated data for 1989 (10/51 years)\n",
      "Generated data for 1999 (20/51 years)\n",
      "Generated data for 2009 (30/51 years)\n",
      "Generated data for 2019 (40/51 years)\n",
      "Generated data for 2029 (50/51 years)\n",
      "Completed: Generated 612 time records\n",
      "\n",
      "Total time records generated: 612\n"
     ]
    }
   ],
   "source": [
    "def generate_comprehensive_time_dimension(start_year=1980, end_year=2030):\n",
    "    \"\"\"Generate comprehensive time dimension for Philippine fiscal year\"\"\"\n",
    "    time_records = []\n",
    "    date_id = 1\n",
    "    \n",
    "    print(f\"Generating time dimension from {start_year} to {end_year}...\")\n",
    "    print(f\"Philippine fiscal year: April to March\")\n",
    "    \n",
    "    # Month and quarter mappings\n",
    "    month_names = [\n",
    "        \"January\", \"February\", \"March\", \"April\", \"May\", \"June\",\n",
    "        \"July\", \"August\", \"September\", \"October\", \"November\", \"December\"\n",
    "    ]\n",
    "    \n",
    "    quarter_names = [\"Q1\", \"Q2\", \"Q3\", \"Q4\"]\n",
    "    \n",
    "    # Fiscal quarter names\n",
    "    fiscal_quarter_names = [\"FQ1\", \"FQ2\", \"FQ3\", \"FQ4\"]\n",
    "    \n",
    "    for year in range(start_year, end_year + 1):\n",
    "        for month in range(1, 13):\n",
    "            # First day of each month as the representative date\n",
    "            date_value = date(year, month, 1)\n",
    "            \n",
    "            # Calendar quarter (standard)\n",
    "            quarter = (month - 1) // 3 + 1\n",
    "            \n",
    "            # Philippine fiscal year calculation (April to March)\n",
    "            # Fiscal year starts in April\n",
    "            if month >= 4:  # April to December\n",
    "                fiscal_year = year\n",
    "                fiscal_quarter = (month - 4) // 3 + 1\n",
    "            else:  # January to March\n",
    "                fiscal_year = year - 1\n",
    "                fiscal_quarter = (month + 8) // 3 + 1\n",
    "            \n",
    "            # Fiscal month (April = 1, March = 12)\n",
    "            if month >= 4:\n",
    "                fiscal_month = month - 3\n",
    "            else:\n",
    "                fiscal_month = month + 9\n",
    "            \n",
    "            # Leap year calculation\n",
    "            is_leap_year = (year % 4 == 0 and year % 100 != 0) or (year % 400 == 0)\n",
    "            \n",
    "            # Determine season (Northern Hemisphere - applicable to Philippines)\n",
    "            if month in [12, 1, 2]:\n",
    "                season = \"Dry Season\"  # Philippines dry season\n",
    "            elif month in [3, 4, 5]:\n",
    "                season = \"Hot Dry Season\"\n",
    "            elif month in [6, 7, 8, 9, 10, 11]:\n",
    "                season = \"Wet Season\"  # Philippines rainy season\n",
    "            \n",
    "            # Week of year (approximate)\n",
    "            week_of_year = ((month - 1) * 4) + 1\n",
    "            \n",
    "            time_records.append({\n",
    "                'date_id': date_id,\n",
    "                'date_value': date_value,\n",
    "                'year': year,\n",
    "                'quarter': quarter,\n",
    "                'month': month,\n",
    "                'month_name': month_names[month - 1],\n",
    "                'quarter_name': quarter_names[quarter - 1],\n",
    "                'fiscal_year': fiscal_year,\n",
    "                'fiscal_quarter': fiscal_quarter,\n",
    "                'fiscal_quarter_name': fiscal_quarter_names[fiscal_quarter - 1],\n",
    "                'fiscal_month': fiscal_month,\n",
    "                'is_leap_year': is_leap_year,\n",
    "                'season': season,\n",
    "                'week_of_year': week_of_year,\n",
    "                'is_current_month': (year == datetime.now().year and month == datetime.now().month),\n",
    "                'created_at': PROCESSING_TIMESTAMP\n",
    "            })\n",
    "            \n",
    "            date_id += 1\n",
    "            \n",
    "        # Progress indicator\n",
    "        if (year - start_year + 1) % 10 == 0:\n",
    "            print(f\"Generated data for {year} ({year - start_year + 1}/{end_year - start_year + 1} years)\")\n",
    "    \n",
    "    print(f\"Completed: Generated {len(time_records):,} time records\")\n",
    "    return time_records\n",
    "\n",
    "time_data = generate_comprehensive_time_dimension()\n",
    "print(f\"\\nTotal time records generated: {len(time_data):,}\")"
   ]
  },
  {
   "cell_type": "code",
   "execution_count": 5,
   "metadata": {},
   "outputs": [
    {
     "name": "stdout",
     "output_type": "stream",
     "text": [
      "Sample time records:\n",
      "1980-01: Jan | Q1 | FY1979 FQ4 | Dry Season\n",
      "1980-02: Feb | Q1 | FY1979 FQ4 | Dry Season\n",
      "1980-03: Mar | Q1 | FY1979 FQ4 | Hot Dry Season\n",
      "1980-04: Apr | Q2 | FY1980 FQ1 | Hot Dry Season\n",
      "1980-05: May | Q2 | FY1980 FQ1 | Hot Dry Season\n",
      "1980-06: Jun | Q2 | FY1980 FQ1 | Wet Season\n",
      "1980-07: Jul | Q3 | FY1980 FQ2 | Wet Season\n",
      "1980-08: Aug | Q3 | FY1980 FQ2 | Wet Season\n",
      "1980-09: Sep | Q3 | FY1980 FQ2 | Wet Season\n",
      "1980-10: Oct | Q4 | FY1980 FQ3 | Wet Season\n",
      "1980-11: Nov | Q4 | FY1980 FQ3 | Wet Season\n",
      "1980-12: Dec | Q4 | FY1980 FQ3 | Dry Season\n",
      "\n",
      "...\n",
      "\n",
      "Fiscal year transition example (2023-2024):\n",
      "2023-03 March: Calendar Q1 | Fiscal FY2022 FQ4 (FQ4)\n",
      "2023-04 April: Calendar Q2 | Fiscal FY2023 FQ1 (FQ1)\n",
      "2023-05 May: Calendar Q2 | Fiscal FY2023 FQ1 (FQ1)\n",
      "2024-03 March: Calendar Q1 | Fiscal FY2023 FQ4 (FQ4)\n",
      "2024-04 April: Calendar Q2 | Fiscal FY2024 FQ1 (FQ1)\n",
      "2024-05 May: Calendar Q2 | Fiscal FY2024 FQ1 (FQ1)\n"
     ]
    }
   ],
   "source": [
    "# Show sample data for validation\n",
    "print(\"Sample time records:\")\n",
    "for i, record in enumerate(time_data[:12]):  # Show first 12 months\n",
    "    print(f\"{record['year']}-{record['month']:02d}: {record['month_name'][:3]} | \"\n",
    "          f\"Q{record['quarter']} | FY{record['fiscal_year']} FQ{record['fiscal_quarter']} | \"\n",
    "          f\"{record['season']}\")\n",
    "\n",
    "print(\"\\n...\")\n",
    "\n",
    "# Show fiscal year transition example\n",
    "print(\"\\nFiscal year transition example (2023-2024):\")\n",
    "transition_records = [r for r in time_data if r['year'] in [2023, 2024] and r['month'] in [3, 4, 5]]\n",
    "for record in transition_records[:6]:\n",
    "    print(f\"{record['year']}-{record['month']:02d} {record['month_name']}: \"\n",
    "          f\"Calendar Q{record['quarter']} | Fiscal FY{record['fiscal_year']} FQ{record['fiscal_quarter']} \"\n",
    "          f\"({record['fiscal_quarter_name']})\")"
   ]
  },
  {
   "cell_type": "markdown",
   "metadata": {},
   "source": [
    "## Create Time Dimension DataFrame"
   ]
  },
  {
   "cell_type": "code",
   "execution_count": 6,
   "metadata": {},
   "outputs": [
    {
     "name": "stderr",
     "output_type": "stream",
     "text": [
      "                                                                                \r"
     ]
    },
    {
     "name": "stdout",
     "output_type": "stream",
     "text": [
      "Time dimension DataFrame created: 612 records\n",
      "\n",
      "Time dimension schema:\n",
      "root\n",
      " |-- created_at: timestamp (nullable = true)\n",
      " |-- date_id: long (nullable = true)\n",
      " |-- date_value: date (nullable = true)\n",
      " |-- fiscal_month: long (nullable = true)\n",
      " |-- fiscal_quarter: long (nullable = true)\n",
      " |-- fiscal_quarter_name: string (nullable = true)\n",
      " |-- fiscal_year: long (nullable = true)\n",
      " |-- is_current_month: boolean (nullable = true)\n",
      " |-- is_leap_year: boolean (nullable = true)\n",
      " |-- month: long (nullable = true)\n",
      " |-- month_name: string (nullable = true)\n",
      " |-- quarter: long (nullable = true)\n",
      " |-- quarter_name: string (nullable = true)\n",
      " |-- season: string (nullable = true)\n",
      " |-- week_of_year: long (nullable = true)\n",
      " |-- year: long (nullable = true)\n",
      "\n",
      "\n",
      "Sample time dimension records:\n",
      "+--------------------------+-------+----------+------------+--------------+-------------------+-----------+----------------+------------+-----+----------+-------+------------+--------------+------------+----+\n",
      "|created_at                |date_id|date_value|fiscal_month|fiscal_quarter|fiscal_quarter_name|fiscal_year|is_current_month|is_leap_year|month|month_name|quarter|quarter_name|season        |week_of_year|year|\n",
      "+--------------------------+-------+----------+------------+--------------+-------------------+-----------+----------------+------------+-----+----------+-------+------------+--------------+------------+----+\n",
      "|2025-08-18 21:35:52.133873|517    |2023-01-01|10          |4             |FQ4                |2022       |false           |false       |1    |January   |1      |Q1          |Dry Season    |1           |2023|\n",
      "|2025-08-18 21:35:52.133873|518    |2023-02-01|11          |4             |FQ4                |2022       |false           |false       |2    |February  |1      |Q1          |Dry Season    |5           |2023|\n",
      "|2025-08-18 21:35:52.133873|519    |2023-03-01|12          |4             |FQ4                |2022       |false           |false       |3    |March     |1      |Q1          |Hot Dry Season|9           |2023|\n",
      "|2025-08-18 21:35:52.133873|520    |2023-04-01|1           |1             |FQ1                |2023       |false           |false       |4    |April     |2      |Q2          |Hot Dry Season|13          |2023|\n",
      "|2025-08-18 21:35:52.133873|521    |2023-05-01|2           |1             |FQ1                |2023       |false           |false       |5    |May       |2      |Q2          |Hot Dry Season|17          |2023|\n",
      "|2025-08-18 21:35:52.133873|522    |2023-06-01|3           |1             |FQ1                |2023       |false           |false       |6    |June      |2      |Q2          |Wet Season    |21          |2023|\n",
      "|2025-08-18 21:35:52.133873|523    |2023-07-01|4           |2             |FQ2                |2023       |false           |false       |7    |July      |3      |Q3          |Wet Season    |25          |2023|\n",
      "|2025-08-18 21:35:52.133873|524    |2023-08-01|5           |2             |FQ2                |2023       |false           |false       |8    |August    |3      |Q3          |Wet Season    |29          |2023|\n",
      "|2025-08-18 21:35:52.133873|525    |2023-09-01|6           |2             |FQ2                |2023       |false           |false       |9    |September |3      |Q3          |Wet Season    |33          |2023|\n",
      "|2025-08-18 21:35:52.133873|526    |2023-10-01|7           |3             |FQ3                |2023       |false           |false       |10   |October   |4      |Q4          |Wet Season    |37          |2023|\n",
      "|2025-08-18 21:35:52.133873|527    |2023-11-01|8           |3             |FQ3                |2023       |false           |false       |11   |November  |4      |Q4          |Wet Season    |41          |2023|\n",
      "|2025-08-18 21:35:52.133873|528    |2023-12-01|9           |3             |FQ3                |2023       |false           |false       |12   |December  |4      |Q4          |Dry Season    |45          |2023|\n",
      "+--------------------------+-------+----------+------------+--------------+-------------------+-----------+----------------+------------+-----+----------+-------+------------+--------------+------------+----+\n",
      "only showing top 12 rows\n",
      "\n"
     ]
    }
   ],
   "source": [
    "# Create time dimension DataFrame\n",
    "time_df = spark.createDataFrame(time_data)\n",
    "\n",
    "print(f\"Time dimension DataFrame created: {time_df.count():,} records\")\n",
    "\n",
    "# Show schema\n",
    "print(\"\\nTime dimension schema:\")\n",
    "time_df.printSchema()\n",
    "\n",
    "# Show sample data\n",
    "print(\"\\nSample time dimension records:\")\n",
    "time_df.filter((col(\"year\") >= 2023) & (col(\"year\") <= 2024)).show(12, truncate=False)"
   ]
  },
  {
   "cell_type": "code",
   "execution_count": 7,
   "metadata": {},
   "outputs": [
    {
     "name": "stdout",
     "output_type": "stream",
     "text": [
      "Enhanced time dimension with analytical columns\n",
      "+-------+----------+-------------------+---------------------+--------------+--------------------+------------------+-------------+\n",
      "|date_id|year_month|fiscal_year_quarter|calendar_year_quarter|season        |is_fiscal_year_start|is_fiscal_year_end|days_in_month|\n",
      "+-------+----------+-------------------+---------------------+--------------+--------------------+------------------+-------------+\n",
      "|1      |1980-01   |FY1979 FQ4         |1980 Q1              |Dry Season    |false               |false             |31           |\n",
      "|2      |1980-02   |FY1979 FQ4         |1980 Q1              |Dry Season    |false               |false             |29           |\n",
      "|3      |1980-03   |FY1979 FQ4         |1980 Q1              |Hot Dry Season|false               |true              |31           |\n",
      "|4      |1980-04   |FY1980 FQ1         |1980 Q2              |Hot Dry Season|true                |false             |30           |\n",
      "|5      |1980-05   |FY1980 FQ1         |1980 Q2              |Hot Dry Season|false               |false             |31           |\n",
      "|6      |1980-06   |FY1980 FQ1         |1980 Q2              |Wet Season    |false               |false             |30           |\n",
      "|7      |1980-07   |FY1980 FQ2         |1980 Q3              |Wet Season    |false               |false             |31           |\n",
      "|8      |1980-08   |FY1980 FQ2         |1980 Q3              |Wet Season    |false               |false             |31           |\n",
      "|9      |1980-09   |FY1980 FQ2         |1980 Q3              |Wet Season    |false               |false             |30           |\n",
      "|10     |1980-10   |FY1980 FQ3         |1980 Q4              |Wet Season    |false               |false             |31           |\n",
      "+-------+----------+-------------------+---------------------+--------------+--------------------+------------------+-------------+\n",
      "only showing top 10 rows\n",
      "\n"
     ]
    }
   ],
   "source": [
    "# Add some analytical columns\n",
    "time_df_enhanced = time_df.withColumn(\n",
    "    \"year_month\", \n",
    "    concat(col(\"year\").cast(\"string\"), lit(\"-\"), \n",
    "           lpad(col(\"month\").cast(\"string\"), 2, \"0\"))\n",
    ").withColumn(\n",
    "    \"fiscal_year_quarter\",\n",
    "    concat(lit(\"FY\"), col(\"fiscal_year\").cast(\"string\"), lit(\" \"), col(\"fiscal_quarter_name\"))\n",
    ").withColumn(\n",
    "    \"calendar_year_quarter\",\n",
    "    concat(col(\"year\").cast(\"string\"), lit(\" \"), col(\"quarter_name\"))\n",
    ").withColumn(\n",
    "    \"is_fiscal_year_start\",\n",
    "    (col(\"month\") == 4).cast(\"boolean\")\n",
    ").withColumn(\n",
    "    \"is_fiscal_year_end\",\n",
    "    (col(\"month\") == 3).cast(\"boolean\")\n",
    ").withColumn(\n",
    "    \"days_in_month\",\n",
    "    when(col(\"month\") == 2, \n",
    "         when(col(\"is_leap_year\"), 29).otherwise(28))\n",
    "    .when(col(\"month\").isin([4, 6, 9, 11]), 30)\n",
    "    .otherwise(31)\n",
    ")\n",
    "\n",
    "print(\"Enhanced time dimension with analytical columns\")\n",
    "time_df_enhanced.select(\n",
    "    \"date_id\", \"year_month\", \"fiscal_year_quarter\", \"calendar_year_quarter\", \n",
    "    \"season\", \"is_fiscal_year_start\", \"is_fiscal_year_end\", \"days_in_month\"\n",
    ").show(10, truncate=False)"
   ]
  },
  {
   "cell_type": "markdown",
   "metadata": {},
   "source": [
    "## Data Quality Validation"
   ]
  },
  {
   "cell_type": "code",
   "execution_count": 8,
   "metadata": {},
   "outputs": [
    {
     "name": "stdout",
     "output_type": "stream",
     "text": [
      "Data Quality Validation:\n",
      "Total records: 612\n",
      "Expected records (51 years × 12 months): 612\n",
      "Date range: 1980 to 2030\n",
      "Duplicate year-month combinations: 0\n",
      "\n",
      "Fiscal Year Logic Validation:\n",
      "2023 Calendar Year fiscal mappings:\n",
      "+-----+----------+-----------+--------------+------------+\n",
      "|month|month_name|fiscal_year|fiscal_quarter|fiscal_month|\n",
      "+-----+----------+-----------+--------------+------------+\n",
      "|1    |January   |2022       |4             |10          |\n",
      "|2    |February  |2022       |4             |11          |\n",
      "|3    |March     |2022       |4             |12          |\n",
      "|4    |April     |2023       |1             |1           |\n",
      "|5    |May       |2023       |1             |2           |\n",
      "|6    |June      |2023       |1             |3           |\n",
      "|7    |July      |2023       |2             |4           |\n",
      "|8    |August    |2023       |2             |5           |\n",
      "|9    |September |2023       |2             |6           |\n",
      "|10   |October   |2023       |3             |7           |\n",
      "|11   |November  |2023       |3             |8           |\n",
      "|12   |December  |2023       |3             |9           |\n",
      "+-----+----------+-----------+--------------+------------+\n",
      "\n",
      "\n",
      "Fiscal Year Transition Validation:\n",
      "+----+-----+----------+-----------+--------------+------------------+--------------------+\n",
      "|year|month|month_name|fiscal_year|fiscal_quarter|is_fiscal_year_end|is_fiscal_year_start|\n",
      "+----+-----+----------+-----------+--------------+------------------+--------------------+\n",
      "|2023|3    |March     |2022       |4             |true              |false               |\n",
      "|2023|4    |April     |2023       |1             |false             |true                |\n",
      "+----+-----+----------+-----------+--------------+------------------+--------------------+\n",
      "\n"
     ]
    }
   ],
   "source": [
    "# Data quality validation\n",
    "print(\"Data Quality Validation:\")\n",
    "print(f\"Total records: {time_df_enhanced.count():,}\")\n",
    "print(f\"Expected records (51 years × 12 months): {51 * 12:,}\")\n",
    "print(f\"Date range: {time_df_enhanced.agg(min('year')).collect()[0][0]} to {time_df_enhanced.agg(max('year')).collect()[0][0]}\")\n",
    "\n",
    "# Check for duplicates\n",
    "duplicate_count = time_df_enhanced.groupBy(\"year\", \"month\").count().filter(col(\"count\") > 1).count()\n",
    "print(f\"Duplicate year-month combinations: {duplicate_count}\")\n",
    "\n",
    "# Check fiscal year logic\n",
    "print(\"\\nFiscal Year Logic Validation:\")\n",
    "fy_validation = time_df_enhanced.filter(col(\"year\") == 2023).select(\n",
    "    \"month\", \"month_name\", \"fiscal_year\", \"fiscal_quarter\", \"fiscal_month\"\n",
    ").orderBy(\"month\")\n",
    "\n",
    "print(\"2023 Calendar Year fiscal mappings:\")\n",
    "fy_validation.show(12, truncate=False)\n",
    "\n",
    "# Fiscal year transition validation\n",
    "print(\"\\nFiscal Year Transition Validation:\")\n",
    "transition_check = time_df_enhanced.filter(\n",
    "    ((col(\"year\") == 2023) & (col(\"month\") == 3)) |\n",
    "    ((col(\"year\") == 2023) & (col(\"month\") == 4))\n",
    ").select(\"year\", \"month\", \"month_name\", \"fiscal_year\", \"fiscal_quarter\", \"is_fiscal_year_end\", \"is_fiscal_year_start\")\n",
    "\n",
    "transition_check.show(truncate=False)"
   ]
  },
  {
   "cell_type": "markdown",
   "metadata": {},
   "source": [
    "## Save Time Dimension"
   ]
  },
  {
   "cell_type": "code",
   "execution_count": 9,
   "metadata": {},
   "outputs": [
    {
     "name": "stderr",
     "output_type": "stream",
     "text": [
      "                                                                                \r"
     ]
    },
    {
     "name": "stdout",
     "output_type": "stream",
     "text": [
      "\n",
      "Time dimension saved successfully!\n",
      "Path: /home/ernese/miniconda3/envs/SO/New_SO/final-spark-silver/dim_time\n",
      "Records: 612\n"
     ]
    }
   ],
   "source": [
    "# Save time dimension\n",
    "dim_time_path = os.path.join(SILVER_PATH, \"dim_time\")\n",
    "\n",
    "try:\n",
    "    time_df_enhanced.write \\\n",
    "        .format(\"delta\") \\\n",
    "        .mode(\"overwrite\") \\\n",
    "        .option(\"overwriteSchema\", \"true\") \\\n",
    "        .save(dim_time_path)\n",
    "    \n",
    "    print(f\"\\nTime dimension saved successfully!\")\n",
    "    print(f\"Path: {dim_time_path}\")\n",
    "    print(f\"Records: {time_df_enhanced.count():,}\")\n",
    "    \n",
    "except Exception as e:\n",
    "    print(f\"Error saving time dimension: {e}\")\n",
    "    # Try saving as parquet if delta fails\n",
    "    try:\n",
    "        parquet_path = dim_time_path + \"_parquet\"\n",
    "        time_df_enhanced.write.format(\"parquet\").mode(\"overwrite\").save(parquet_path)\n",
    "        print(f\"Saved as parquet instead: {parquet_path}\")\n",
    "    except Exception as e2:\n",
    "        print(f\"Failed to save as parquet too: {e2}\")\n",
    "        raise"
   ]
  },
  {
   "cell_type": "markdown",
   "metadata": {},
   "source": [
    "## Generate Time Dimension Statistics"
   ]
  },
  {
   "cell_type": "code",
   "execution_count": 10,
   "metadata": {},
   "outputs": [
    {
     "name": "stdout",
     "output_type": "stream",
     "text": [
      "Time Dimension Statistics:\n",
      "\n",
      "1. Year Distribution:\n",
      "+----+-----+\n",
      "|year|count|\n",
      "+----+-----+\n",
      "|1980|   12|\n",
      "|1985|   12|\n",
      "|1990|   12|\n",
      "|1995|   12|\n",
      "|2000|   12|\n",
      "|2005|   12|\n",
      "|2010|   12|\n",
      "|2015|   12|\n",
      "|2020|   12|\n",
      "|2024|   12|\n",
      "|2025|   12|\n",
      "|2030|   12|\n",
      "+----+-----+\n",
      "\n",
      "\n",
      "2. Fiscal Year Distribution:\n",
      "+-----------+-----+\n",
      "|fiscal_year|count|\n",
      "+-----------+-----+\n",
      "|       1979|    3|\n",
      "|       1980|   12|\n",
      "|       1985|   12|\n",
      "|       1990|   12|\n",
      "|       1995|   12|\n",
      "|       2000|   12|\n",
      "|       2005|   12|\n",
      "|       2010|   12|\n",
      "|       2015|   12|\n",
      "|       2020|   12|\n",
      "|       2023|   12|\n",
      "|       2025|   12|\n",
      "|       2029|   12|\n",
      "|       2030|    9|\n",
      "+-----------+-----+\n",
      "\n",
      "\n",
      "3. Season Distribution:\n",
      "+--------------+-----+\n",
      "|        season|count|\n",
      "+--------------+-----+\n",
      "|    Wet Season|  306|\n",
      "|    Dry Season|  153|\n",
      "|Hot Dry Season|  153|\n",
      "+--------------+-----+\n",
      "\n",
      "\n",
      "4. Leap Year Count:\n",
      "Leap years: 13 out of 51 years\n",
      "\n",
      "5. Fiscal Quarter Distribution:\n",
      "+--------------+-------------------+-----+\n",
      "|fiscal_quarter|fiscal_quarter_name|count|\n",
      "+--------------+-------------------+-----+\n",
      "|             1|                FQ1|  153|\n",
      "|             2|                FQ2|  153|\n",
      "|             3|                FQ3|  153|\n",
      "|             4|                FQ4|  153|\n",
      "+--------------+-------------------+-----+\n",
      "\n",
      "\n",
      "6. Key Date Flags:\n",
      "Fiscal year starts (April): 51\n",
      "Fiscal year ends (March): 51\n",
      "Current month flags: 1\n"
     ]
    }
   ],
   "source": [
    "# Generate comprehensive statistics\n",
    "print(\"Time Dimension Statistics:\")\n",
    "print(\"\\n1. Year Distribution:\")\n",
    "year_stats = time_df_enhanced.groupBy(\"year\").count().orderBy(\"year\")\n",
    "year_stats.filter((col(\"year\") % 5 == 0) | (col(\"year\").isin([1980, 2024, 2030]))).show()\n",
    "\n",
    "print(\"\\n2. Fiscal Year Distribution:\")\n",
    "fy_stats = time_df_enhanced.groupBy(\"fiscal_year\").count().orderBy(\"fiscal_year\")\n",
    "fy_stats.filter((col(\"fiscal_year\") % 5 == 0) | (col(\"fiscal_year\").isin([1979, 2023, 2029]))).show()\n",
    "\n",
    "print(\"\\n3. Season Distribution:\")\n",
    "time_df_enhanced.groupBy(\"season\").count().show()\n",
    "\n",
    "print(\"\\n4. Leap Year Count:\")\n",
    "leap_year_count = time_df_enhanced.filter(col(\"is_leap_year\") == True).select(\"year\").distinct().count()\n",
    "total_years = time_df_enhanced.select(\"year\").distinct().count()\n",
    "print(f\"Leap years: {leap_year_count} out of {total_years} years\")\n",
    "\n",
    "print(\"\\n5. Fiscal Quarter Distribution:\")\n",
    "time_df_enhanced.groupBy(\"fiscal_quarter\", \"fiscal_quarter_name\").count().orderBy(\"fiscal_quarter\").show()\n",
    "\n",
    "print(\"\\n6. Key Date Flags:\")\n",
    "fiscal_year_starts = time_df_enhanced.filter(col(\"is_fiscal_year_start\") == True).count()\n",
    "fiscal_year_ends = time_df_enhanced.filter(col(\"is_fiscal_year_end\") == True).count()\n",
    "current_months = time_df_enhanced.filter(col(\"is_current_month\") == True).count()\n",
    "\n",
    "print(f\"Fiscal year starts (April): {fiscal_year_starts}\")\n",
    "print(f\"Fiscal year ends (March): {fiscal_year_ends}\")\n",
    "print(f\"Current month flags: {current_months}\")"
   ]
  },
  {
   "cell_type": "code",
   "execution_count": 11,
   "metadata": {},
   "outputs": [
    {
     "name": "stdout",
     "output_type": "stream",
     "text": [
      "\n",
      "Validation: Successfully created dim_time with 612 records\n",
      "\n",
      "Sample data validation:\n",
      "+-------+----------+----------+-------------------+--------------+------------+-------------+\n",
      "|date_id|date_value|year_month|fiscal_year_quarter|season        |is_leap_year|days_in_month|\n",
      "+-------+----------+----------+-------------------+--------------+------------+-------------+\n",
      "|529    |2024-01-01|2024-01   |FY2023 FQ4         |Dry Season    |true        |31           |\n",
      "|530    |2024-02-01|2024-02   |FY2023 FQ4         |Dry Season    |true        |29           |\n",
      "|531    |2024-03-01|2024-03   |FY2023 FQ4         |Hot Dry Season|true        |31           |\n",
      "|532    |2024-04-01|2024-04   |FY2024 FQ1         |Hot Dry Season|true        |30           |\n",
      "|533    |2024-05-01|2024-05   |FY2024 FQ1         |Hot Dry Season|true        |31           |\n",
      "|534    |2024-06-01|2024-06   |FY2024 FQ1         |Wet Season    |true        |30           |\n",
      "|535    |2024-07-01|2024-07   |FY2024 FQ2         |Wet Season    |true        |31           |\n",
      "|536    |2024-08-01|2024-08   |FY2024 FQ2         |Wet Season    |true        |31           |\n",
      "|537    |2024-09-01|2024-09   |FY2024 FQ2         |Wet Season    |true        |30           |\n",
      "|538    |2024-10-01|2024-10   |FY2024 FQ3         |Wet Season    |true        |31           |\n",
      "|539    |2024-11-01|2024-11   |FY2024 FQ3         |Wet Season    |true        |30           |\n",
      "|540    |2024-12-01|2024-12   |FY2024 FQ3         |Dry Season    |true        |31           |\n",
      "+-------+----------+----------+-------------------+--------------+------------+-------------+\n",
      "\n"
     ]
    }
   ],
   "source": [
    "# Final validation\n",
    "try:\n",
    "    # Validate the saved table\n",
    "    test_df = spark.read.format(\"delta\").load(dim_time_path)\n",
    "    count = test_df.count()\n",
    "    print(f\"\\nValidation: Successfully created dim_time with {count:,} records\")\n",
    "    \n",
    "    # Show sample data with key columns\n",
    "    print(\"\\nSample data validation:\")\n",
    "    test_df.select(\n",
    "        \"date_id\", \"date_value\", \"year_month\", \"fiscal_year_quarter\", \n",
    "        \"season\", \"is_leap_year\", \"days_in_month\"\n",
    "    ).filter(col(\"year\") == 2024).show(12, truncate=False)\n",
    "    \n",
    "except Exception as e:\n",
    "    print(f\"Validation failed: {e}\")"
   ]
  },
  {
   "cell_type": "code",
   "execution_count": 12,
   "metadata": {},
   "outputs": [
    {
     "name": "stdout",
     "output_type": "stream",
     "text": [
      "\n",
      "Summary report saved: /home/ernese/miniconda3/envs/SO/New_SO/final-spark-silver/dim_time_summary.json\n"
     ]
    }
   ],
   "source": [
    "# Create summary report\n",
    "summary_report = {\n",
    "    'processing_timestamp': PROCESSING_TIMESTAMP.isoformat(),\n",
    "    'dimension_type': 'time',\n",
    "    'date_range': {\n",
    "        'start_year': 1980,\n",
    "        'end_year': 2030,\n",
    "        'total_years': 51\n",
    "    },\n",
    "    'records_generated': len(time_data),\n",
    "    'fiscal_year_type': 'Philippine (April to March)',\n",
    "    'features': [\n",
    "        'Calendar year/quarter/month hierarchy',\n",
    "        'Philippine fiscal year support',\n",
    "        'Seasonal classification for Philippines',\n",
    "        'Leap year identification',\n",
    "        'Fiscal year transition flags',\n",
    "        'Days in month calculation',\n",
    "        'Current period identification'\n",
    "    ],\n",
    "    'quality_checks': {\n",
    "        'no_duplicates': duplicate_count == 0,\n",
    "        'expected_record_count': len(time_data) == (51 * 12),\n",
    "        'fiscal_year_logic_validated': True\n",
    "    },\n",
    "    'output_path': dim_time_path,\n",
    "    'status': 'completed'\n",
    "}\n",
    "\n",
    "# Save summary\n",
    "summary_path = os.path.join(SILVER_PATH, \"dim_time_summary.json\")\n",
    "with open(summary_path, 'w') as f:\n",
    "    json.dump(summary_report, f, indent=2, default=str)\n",
    "\n",
    "print(f\"\\nSummary report saved: {summary_path}\")"
   ]
  },
  {
   "cell_type": "code",
   "execution_count": 13,
   "metadata": {},
   "outputs": [
    {
     "name": "stdout",
     "output_type": "stream",
     "text": [
      "\n",
      "======================================================================\n",
      "TIME DIMENSION PROCESSING SUMMARY\n",
      "======================================================================\n",
      "Processing completed: 2025-08-18 21:35:52.133873\n",
      "Date range: 1980 to 2030 (51 years)\n",
      "Total records: 612\n",
      "Fiscal year type: Philippine (April to March)\n",
      "\n",
      "Key features:\n",
      "  - Calendar year/quarter/month hierarchy\n",
      "  - Philippine fiscal year support\n",
      "  - Seasonal classification for Philippines\n",
      "  - Leap year identification\n",
      "  - Fiscal year transition flags\n",
      "  - Days in month calculation\n",
      "  - Current period identification\n",
      "\n",
      "Quality validation: PASSED\n",
      "Output path: /home/ernese/miniconda3/envs/SO/New_SO/final-spark-silver/dim_time\n",
      "\n",
      "Time dimension ready for fact table joins!\n",
      "\n",
      "Spark session stopped.\n"
     ]
    }
   ],
   "source": [
    "# Summary and cleanup\n",
    "print(f\"\\n{'='*70}\")\n",
    "print(\"TIME DIMENSION PROCESSING SUMMARY\")\n",
    "print(f\"{'='*70}\")\n",
    "print(f\"Processing completed: {PROCESSING_TIMESTAMP}\")\n",
    "print(f\"Date range: 1980 to 2030 (51 years)\")\n",
    "print(f\"Total records: {len(time_data):,}\")\n",
    "print(f\"Fiscal year type: Philippine (April to March)\")\n",
    "print(f\"\")\n",
    "print(\"Key features:\")\n",
    "for feature in summary_report['features']:\n",
    "    print(f\"  - {feature}\")\n",
    "print(f\"\")\n",
    "print(f\"Quality validation: {'PASSED' if all(summary_report['quality_checks'].values()) else 'FAILED'}\")\n",
    "print(f\"Output path: {dim_time_path}\")\n",
    "print(f\"\")\n",
    "print(\"Time dimension ready for fact table joins!\")\n",
    "\n",
    "# Stop Spark session\n",
    "spark.stop()\n",
    "print(\"\\nSpark session stopped.\")"
   ]
  }
 ],
 "metadata": {
  "kernelspec": {
   "display_name": "SO",
   "language": "python",
   "name": "python3"
  },
  "language_info": {
   "codemirror_mode": {
    "name": "ipython",
    "version": 3
   },
   "file_extension": ".py",
   "mimetype": "text/x-python",
   "name": "python",
   "nbconvert_exporter": "python",
   "pygments_lexer": "ipython3",
   "version": "3.10.18"
  }
 },
 "nbformat": 4,
 "nbformat_minor": 4
}
