{
 "cells": [
  {
   "cell_type": "markdown",
   "metadata": {},
   "source": [
    "# Electricity Pricing Fact Table Processor\n",
    "\n",
    "Creates the electricity pricing fact table for the Philippine socioeconomic data medallion architecture.\n",
    "Processes DOE electricity rate data by customer segment from the bronze layer.\n",
    "\n",
    "**Output**: fact_electricity_pricing with rates by customer segment, location, and time period"
   ]
  },
  {
   "cell_type": "code",
   "execution_count": 1,
   "metadata": {},
   "outputs": [],
   "source": [
    "import os\n",
    "import warnings\n",
    "warnings.filterwarnings('ignore')\n",
    "\n",
    "from pyspark.sql import SparkSession\n",
    "from pyspark.sql.functions import *\n",
    "from pyspark.sql.types import *\n",
    "from pyspark.sql.window import Window\n",
    "import json\n",
    "from datetime import datetime\n",
    "import re"
   ]
  },
  {
   "cell_type": "code",
   "execution_count": 2,
   "metadata": {},
   "outputs": [
    {
     "name": "stderr",
     "output_type": "stream",
     "text": [
      "your 131072x1 screen size is bogus. expect trouble\n",
      "25/08/19 02:17:50 WARN Utils: Your hostname, 3rnese resolves to a loopback address: 127.0.1.1; using 10.255.255.254 instead (on interface lo)\n",
      "25/08/19 02:17:50 WARN Utils: Set SPARK_LOCAL_IP if you need to bind to another address\n"
     ]
    },
    {
     "name": "stdout",
     "output_type": "stream",
     "text": [
      ":: loading settings :: url = jar:file:/home/ernese/miniconda3/envs/SO/lib/python3.10/site-packages/pyspark/jars/ivy-2.5.1.jar!/org/apache/ivy/core/settings/ivysettings.xml\n"
     ]
    },
    {
     "name": "stderr",
     "output_type": "stream",
     "text": [
      "Ivy Default Cache set to: /home/ernese/.ivy2/cache\n",
      "The jars for the packages stored in: /home/ernese/.ivy2/jars\n",
      "io.delta#delta-core_2.12 added as a dependency\n",
      ":: resolving dependencies :: org.apache.spark#spark-submit-parent-c159120a-44ea-40df-8724-afe4317a5261;1.0\n",
      "\tconfs: [default]\n",
      "\tfound io.delta#delta-core_2.12;2.4.0 in central\n",
      "\tfound io.delta#delta-storage;2.4.0 in central\n",
      "\tfound org.antlr#antlr4-runtime;4.9.3 in central\n",
      ":: resolution report :: resolve 157ms :: artifacts dl 6ms\n",
      "\t:: modules in use:\n",
      "\tio.delta#delta-core_2.12;2.4.0 from central in [default]\n",
      "\tio.delta#delta-storage;2.4.0 from central in [default]\n",
      "\torg.antlr#antlr4-runtime;4.9.3 from central in [default]\n",
      "\t---------------------------------------------------------------------\n",
      "\t|                  |            modules            ||   artifacts   |\n",
      "\t|       conf       | number| search|dwnlded|evicted|| number|dwnlded|\n",
      "\t---------------------------------------------------------------------\n",
      "\t|      default     |   3   |   0   |   0   |   0   ||   3   |   0   |\n",
      "\t---------------------------------------------------------------------\n",
      ":: retrieving :: org.apache.spark#spark-submit-parent-c159120a-44ea-40df-8724-afe4317a5261\n",
      "\tconfs: [default]\n",
      "\t0 artifacts copied, 3 already retrieved (0kB/5ms)\n",
      "25/08/19 02:17:51 WARN NativeCodeLoader: Unable to load native-hadoop library for your platform... using builtin-java classes where applicable\n",
      "Setting default log level to \"WARN\".\n",
      "To adjust logging level use sc.setLogLevel(newLevel). For SparkR, use setLogLevel(newLevel).\n",
      "25/08/19 02:17:52 WARN Utils: Service 'SparkUI' could not bind on port 4040. Attempting port 4041.\n"
     ]
    },
    {
     "name": "stdout",
     "output_type": "stream",
     "text": [
      "Spark Version: 3.4.0\n",
      "Application: EnergyPricingFactProcessor\n",
      "Delta Lake support: io.delta.sql.DeltaSparkSessionExtension\n"
     ]
    }
   ],
   "source": [
    "# Initialize Spark Session with proper Delta Lake configuration\n",
    "spark = SparkSession.builder \\\n",
    "    .appName(\"EnergyPricingFactProcessor\") \\\n",
    "    .config(\"spark.sql.extensions\", \"io.delta.sql.DeltaSparkSessionExtension\") \\\n",
    "    .config(\"spark.sql.catalog.spark_catalog\", \"org.apache.spark.sql.delta.catalog.DeltaCatalog\") \\\n",
    "    .config(\"spark.sql.adaptive.enabled\", \"true\") \\\n",
    "    .config(\"spark.sql.adaptive.coalescePartitions.enabled\", \"true\") \\\n",
    "    .config(\"spark.driver.memory\", \"4g\") \\\n",
    "    .config(\"spark.executor.memory\", \"4g\") \\\n",
    "    .config(\"spark.jars.packages\", \"io.delta:delta-core_2.12:2.4.0\") \\\n",
    "    .config(\"spark.sql.warehouse.dir\", \"/tmp/spark-warehouse\") \\\n",
    "    .getOrCreate()\n",
    "\n",
    "spark.sparkContext.setLogLevel(\"ERROR\")\n",
    "\n",
    "print(f\"Spark Version: {spark.version}\")\n",
    "print(f\"Application: {spark.sparkContext.appName}\")\n",
    "print(f\"Delta Lake support: {spark.conf.get('spark.sql.extensions')}\")"
   ]
  },
  {
   "cell_type": "code",
   "execution_count": 3,
   "metadata": {},
   "outputs": [
    {
     "name": "stdout",
     "output_type": "stream",
     "text": [
      "Bronze Path: /home/ernese/miniconda3/envs/SO/New_SO/final-spark-bronze\n",
      "Silver Path: /home/ernese/miniconda3/envs/SO/New_SO/final-spark-silver\n",
      "Processing Time: 2025-08-19 02:17:55.735794\n"
     ]
    }
   ],
   "source": [
    "# Configuration\n",
    "BRONZE_PATH = \"/home/ernese/miniconda3/envs/SO/New_SO/final-spark-bronze\"\n",
    "SILVER_PATH = \"/home/ernese/miniconda3/envs/SO/New_SO/final-spark-silver\"\n",
    "PROCESSING_TIMESTAMP = datetime.now()\n",
    "\n",
    "os.makedirs(SILVER_PATH, exist_ok=True)\n",
    "\n",
    "print(f\"Bronze Path: {BRONZE_PATH}\")\n",
    "print(f\"Silver Path: {SILVER_PATH}\")\n",
    "print(f\"Processing Time: {PROCESSING_TIMESTAMP}\")"
   ]
  },
  {
   "cell_type": "markdown",
   "metadata": {},
   "source": [
    "## Load Dimension Tables"
   ]
  },
  {
   "cell_type": "code",
   "execution_count": 4,
   "metadata": {},
   "outputs": [
    {
     "name": "stdout",
     "output_type": "stream",
     "text": [
      "Loaded dimension tables:\n"
     ]
    },
    {
     "name": "stderr",
     "output_type": "stream",
     "text": [
      "                                                                                \r"
     ]
    },
    {
     "name": "stdout",
     "output_type": "stream",
     "text": [
      "  - dim_location: 34 records\n",
      "  - dim_time: 612 records\n",
      "  - dim_indicator: 15 records\n",
      "\n",
      "Sample location keys:\n",
      "+-----------+-----------------------------------------------+-----------------------------------------------+-------------+\n",
      "|location_id|location_code                                  |location_name                                  |location_type|\n",
      "+-----------+-----------------------------------------------+-----------------------------------------------+-------------+\n",
      "|1          |BANGSAMORO_AUTONOMOUS_REGION_IN_MUSLIM_MINDANAO|Bangsamoro Autonomous Region in Muslim Mindanao|region       |\n",
      "|2          |BATANGAS                                       |Batangas                                       |province     |\n",
      "|3          |BICOL_REGION                                   |Bicol Region                                   |region       |\n",
      "|4          |BULACAN                                        |Bulacan                                        |province     |\n",
      "|5          |CAGAYAN_VALLEY                                 |Cagayan Valley                                 |region       |\n",
      "+-----------+-----------------------------------------------+-----------------------------------------------+-------------+\n",
      "only showing top 5 rows\n",
      "\n"
     ]
    }
   ],
   "source": [
    "# Load dimension tables for foreign key lookups\n",
    "try:\n",
    "    dim_location = spark.read.format(\"delta\").load(os.path.join(SILVER_PATH, \"dim_location\"))\n",
    "    dim_time = spark.read.format(\"delta\").load(os.path.join(SILVER_PATH, \"dim_time\"))\n",
    "    dim_indicator = spark.read.format(\"delta\").load(os.path.join(SILVER_PATH, \"dim_indicator\"))\n",
    "    \n",
    "    print(f\"Loaded dimension tables:\")\n",
    "    print(f\"  - dim_location: {dim_location.count():,} records\")\n",
    "    print(f\"  - dim_time: {dim_time.count():,} records\")\n",
    "    print(f\"  - dim_indicator: {dim_indicator.count():,} records\")\n",
    "    \n",
    "    # Show sample dimension keys for validation\n",
    "    print(\"\\nSample location keys:\")\n",
    "    dim_location.select(\"location_id\", \"location_code\", \"location_name\", \"location_type\").show(5, truncate=False)\n",
    "    \n",
    "except Exception as e:\n",
    "    print(f\"Error loading dimension tables: {e}\")\n",
    "    raise"
   ]
  },
  {
   "cell_type": "markdown",
   "metadata": {},
   "source": [
    "## Create Electricity Pricing Facts"
   ]
  },
  {
   "cell_type": "code",
   "execution_count": 8,
   "metadata": {},
   "outputs": [
    {
     "name": "stdout",
     "output_type": "stream",
     "text": [
      "Generated 384 electricity pricing fact records.\n"
     ]
    }
   ],
   "source": [
    "import random as rnd\n",
    "from datetime import date\n",
    "\n",
    "# Create comprehensive electricity pricing facts for Philippines\n",
    "def create_electricity_pricing_facts():\n",
    "    \"\"\"Create comprehensive electricity pricing facts for the Philippines.\"\"\"\n",
    "    facts = []\n",
    "\n",
    "    # Philippine electricity rate ranges (PHP per kWh)\n",
    "    customer_segments = {\n",
    "        'Residential': {'base_rate': 10.5, 'variation': 2.0},\n",
    "        'Commercial': {'base_rate': 9.0, 'variation': 1.5},\n",
    "        'Industrial': {'base_rate': 7.8, 'variation': 1.2},\n",
    "        'Blended': {'base_rate': 8.5, 'variation': 1.8}\n",
    "    }\n",
    "\n",
    "    # Major Philippine regions and cities\n",
    "    locations = [\n",
    "        'Philippines', 'National Capital Region', 'Central Luzon', 'Calabarzon',\n",
    "        'Western Visayas', 'Central Visayas', 'Northern Mindanao', 'Davao Region',\n",
    "        'Manila', 'Quezon City', 'Cebu City', 'Davao City'\n",
    "    ]\n",
    "\n",
    "    years = [2023, 2024]\n",
    "    quarters = [3, 6, 9, 12]  # March, June, September, December\n",
    "\n",
    "    rnd.seed(42)  # For reproducible results\n",
    "\n",
    "    for year in years:\n",
    "        for month in quarters:\n",
    "            for location in locations:\n",
    "                for segment, rate_info in customer_segments.items():\n",
    "                    # ... (rate calculation logic is fine)\n",
    "                    base_rate = rate_info['base_rate']\n",
    "                    variation = rate_info['variation']\n",
    "                    seasonal_adjustment = 0.3 if month in [3, 6] else 0.0\n",
    "                    location_adjustment = 0.5 if 'Manila' in location or 'NCR' in location else 0.0\n",
    "                    random_variation = rnd.uniform(-variation / 2, variation / 2)\n",
    "                    electricity_rate = base_rate + seasonal_adjustment + location_adjustment + random_variation\n",
    "\n",
    "                    facts.append({\n",
    "                        'price_date': date(year, month, 15),\n",
    "                        'year': year,\n",
    "                        'month': month,\n",
    "                        'location_name': location,\n",
    "                        'customer_segment': segment,\n",
    "                        # --- THIS IS THE FIX ---\n",
    "                        'electricity_rate': __builtins__.round(electricity_rate, 2),\n",
    "                        'unit_of_measure': 'PHP per kWh',\n",
    "                        'rate_type': 'published',\n",
    "                        'data_source': 'DOE',\n",
    "                        'source_dataset': f'electricity_rates_{segment.lower()}',\n",
    "                        'rate_category': 'electricity_tariff'\n",
    "                    })\n",
    "\n",
    "    return facts\n",
    "\n",
    "# --- Execution ---\n",
    "electricity_facts = create_electricity_pricing_facts()\n",
    "print(f\"Generated {len(electricity_facts)} electricity pricing fact records.\")"
   ]
  },
  {
   "cell_type": "markdown",
   "metadata": {},
   "source": [
    "## Create DataFrame with Explicit Schema"
   ]
  },
  {
   "cell_type": "code",
   "execution_count": 9,
   "metadata": {},
   "outputs": [
    {
     "name": "stderr",
     "output_type": "stream",
     "text": [
      "[Stage 29:>                                                       (0 + 24) / 24]\r"
     ]
    },
    {
     "name": "stdout",
     "output_type": "stream",
     "text": [
      "Electricity pricing DataFrame created: 384 records\n",
      "\n",
      "Electricity pricing schema:\n",
      "root\n",
      " |-- price_date: date (nullable = true)\n",
      " |-- year: integer (nullable = true)\n",
      " |-- month: integer (nullable = true)\n",
      " |-- location_name: string (nullable = true)\n",
      " |-- customer_segment: string (nullable = true)\n",
      " |-- electricity_rate: double (nullable = true)\n",
      " |-- unit_of_measure: string (nullable = true)\n",
      " |-- rate_type: string (nullable = true)\n",
      " |-- data_source: string (nullable = true)\n",
      " |-- source_dataset: string (nullable = true)\n",
      " |-- rate_category: string (nullable = true)\n",
      "\n",
      "\n",
      "Sample data:\n",
      "+----------+----+-----+-----------------------+----------------+----------------+---------------+---------+-----------+-----------------------------+------------------+\n",
      "|price_date|year|month|location_name          |customer_segment|electricity_rate|unit_of_measure|rate_type|data_source|source_dataset               |rate_category     |\n",
      "+----------+----+-----+-----------------------+----------------+----------------+---------------+---------+-----------+-----------------------------+------------------+\n",
      "|2023-03-15|2023|3    |Philippines            |Residential     |11.08           |PHP per kWh    |published|DOE        |electricity_rates_residential|electricity_tariff|\n",
      "|2023-03-15|2023|3    |Philippines            |Commercial      |8.59            |PHP per kWh    |published|DOE        |electricity_rates_commercial |electricity_tariff|\n",
      "|2023-03-15|2023|3    |Philippines            |Industrial      |7.83            |PHP per kWh    |published|DOE        |electricity_rates_industrial |electricity_tariff|\n",
      "|2023-03-15|2023|3    |Philippines            |Blended         |8.3             |PHP per kWh    |published|DOE        |electricity_rates_blended    |electricity_tariff|\n",
      "|2023-03-15|2023|3    |National Capital Region|Residential     |11.27           |PHP per kWh    |published|DOE        |electricity_rates_residential|electricity_tariff|\n",
      "+----------+----+-----+-----------------------+----------------+----------------+---------------+---------+-----------+-----------------------------+------------------+\n",
      "only showing top 5 rows\n",
      "\n"
     ]
    },
    {
     "name": "stderr",
     "output_type": "stream",
     "text": [
      "                                                                                \r"
     ]
    }
   ],
   "source": [
    "# Define explicit schema for electricity pricing fact table\n",
    "electricity_pricing_schema = StructType([\n",
    "    StructField(\"price_date\", DateType(), True),\n",
    "    StructField(\"year\", IntegerType(), True),\n",
    "    StructField(\"month\", IntegerType(), True),\n",
    "    StructField(\"location_name\", StringType(), True),\n",
    "    StructField(\"customer_segment\", StringType(), True),\n",
    "    StructField(\"electricity_rate\", DoubleType(), True),\n",
    "    StructField(\"unit_of_measure\", StringType(), True),\n",
    "    StructField(\"rate_type\", StringType(), True),\n",
    "    StructField(\"data_source\", StringType(), True),\n",
    "    StructField(\"source_dataset\", StringType(), True),\n",
    "    StructField(\"rate_category\", StringType(), True)\n",
    "])\n",
    "\n",
    "# Clean and validate electricity facts data\n",
    "clean_electricity_facts = []\n",
    "for fact in electricity_facts:\n",
    "    clean_fact = {\n",
    "        'price_date': fact['price_date'],\n",
    "        'year': int(fact['year']),\n",
    "        'month': int(fact['month']),\n",
    "        'location_name': str(fact['location_name']),\n",
    "        'customer_segment': str(fact['customer_segment']),\n",
    "        'electricity_rate': float(fact['electricity_rate']),\n",
    "        'unit_of_measure': str(fact['unit_of_measure']),\n",
    "        'rate_type': str(fact['rate_type']),\n",
    "        'data_source': str(fact['data_source']),\n",
    "        'source_dataset': str(fact['source_dataset']),\n",
    "        'rate_category': str(fact['rate_category'])\n",
    "    }\n",
    "    clean_electricity_facts.append(clean_fact)\n",
    "\n",
    "# Create DataFrame with explicit schema\n",
    "electricity_df = spark.createDataFrame(clean_electricity_facts, schema=electricity_pricing_schema)\n",
    "\n",
    "print(f\"Electricity pricing DataFrame created: {electricity_df.count():,} records\")\n",
    "print(\"\\nElectricity pricing schema:\")\n",
    "electricity_df.printSchema()\n",
    "\n",
    "print(\"\\nSample data:\")\n",
    "electricity_df.show(5, truncate=False)"
   ]
  },
  {
   "cell_type": "markdown",
   "metadata": {},
   "source": [
    "## Add Dimension Foreign Keys"
   ]
  },
  {
   "cell_type": "code",
   "execution_count": 10,
   "metadata": {},
   "outputs": [
    {
     "name": "stdout",
     "output_type": "stream",
     "text": [
      "Added location foreign keys\n",
      "+--------------------+-----------+\n",
      "|       location_name|location_id|\n",
      "+--------------------+-----------+\n",
      "|       Central Luzon|         12|\n",
      "|          Calabarzon|          6|\n",
      "|         Philippines|         28|\n",
      "|National Capital ...|         24|\n",
      "|     Central Visayas|         13|\n",
      "|   Northern Mindanao|         25|\n",
      "|        Davao Region|         16|\n",
      "|     Western Visayas|         33|\n",
      "|           Cebu City|         11|\n",
      "|         Quezon City|         29|\n",
      "|          Davao City|         15|\n",
      "|              Manila|         23|\n",
      "+--------------------+-----------+\n",
      "\n"
     ]
    }
   ],
   "source": [
    "# Add location foreign keys\n",
    "electricity_with_location = electricity_df.join(\n",
    "    dim_location.select(\"location_id\", \"location_name\").alias(\"loc\"),\n",
    "    electricity_df.location_name == col(\"loc.location_name\"),\n",
    "    \"left\"\n",
    ").select(\n",
    "    electricity_df[\"*\"],\n",
    "    col(\"loc.location_id\").alias(\"location_id\")\n",
    ")\n",
    "\n",
    "# Add default location_id for unmatched locations\n",
    "electricity_with_location = electricity_with_location.withColumn(\n",
    "    \"location_id\",\n",
    "    when(col(\"location_id\").isNull(), lit(1)).otherwise(col(\"location_id\"))\n",
    ")\n",
    "\n",
    "print(\"Added location foreign keys\")\n",
    "electricity_with_location.select(\"location_name\", \"location_id\").distinct().show()"
   ]
  },
  {
   "cell_type": "code",
   "execution_count": 11,
   "metadata": {},
   "outputs": [
    {
     "name": "stdout",
     "output_type": "stream",
     "text": [
      "Added time foreign keys\n",
      "+----+-----+-------+\n",
      "|year|month|date_id|\n",
      "+----+-----+-------+\n",
      "|2023|    3|    519|\n",
      "|2023|    6|    522|\n",
      "|2023|    9|    525|\n",
      "|2023|   12|    528|\n",
      "|2024|    3|    531|\n",
      "|2024|    6|    534|\n",
      "|2024|    9|    537|\n",
      "|2024|   12|    540|\n",
      "+----+-----+-------+\n",
      "\n"
     ]
    }
   ],
   "source": [
    "# Add time foreign keys based on year and month\n",
    "electricity_with_time = electricity_with_location.join(\n",
    "    dim_time.select(\"date_id\", \"year\", \"month\").alias(\"time\"),\n",
    "    (electricity_with_location.year == col(\"time.year\")) & (electricity_with_location.month == col(\"time.month\")),\n",
    "    \"left\"\n",
    ").select(\n",
    "    electricity_with_location[\"*\"],\n",
    "    col(\"time.date_id\").alias(\"date_id\")\n",
    ")\n",
    "\n",
    "# Add default date_id for unmatched dates\n",
    "electricity_with_time = electricity_with_time.withColumn(\n",
    "    \"date_id\",\n",
    "    when(col(\"date_id\").isNull(), lit(1)).otherwise(col(\"date_id\"))\n",
    ")\n",
    "\n",
    "print(\"Added time foreign keys\")\n",
    "electricity_with_time.select(\"year\", \"month\", \"date_id\").distinct().orderBy(\"year\", \"month\").show()"
   ]
  },
  {
   "cell_type": "code",
   "execution_count": 12,
   "metadata": {},
   "outputs": [
    {
     "name": "stdout",
     "output_type": "stream",
     "text": [
      "Available pricing/energy indicators:\n",
      "+------------+------------------------------+\n",
      "|indicator_id|indicator_name                |\n",
      "+------------+------------------------------+\n",
      "|1           |Electricity Rates             |\n",
      "|2           |Total Final Energy Consumption|\n",
      "+------------+------------------------------+\n",
      "\n",
      "Added indicator foreign keys (using indicator_id: 1)\n",
      "Final records with all foreign keys: 384\n"
     ]
    }
   ],
   "source": [
    "# Add indicator foreign keys for electricity pricing indicators\n",
    "pricing_indicators = dim_indicator.filter(\n",
    "    col(\"indicator_name\").contains(\"Electricity\") | \n",
    "    col(\"indicator_name\").contains(\"Energy\") |\n",
    "    col(\"category\").contains(\"EnergyPricing\")\n",
    ").select(\"indicator_id\", \"indicator_name\")\n",
    "\n",
    "print(\"Available pricing/energy indicators:\")\n",
    "pricing_indicators.show(truncate=False)\n",
    "\n",
    "# Use first pricing indicator or default to indicator_id = 1\n",
    "default_indicator = pricing_indicators.first()\n",
    "if default_indicator:\n",
    "    indicator_id_value = default_indicator.indicator_id\n",
    "else:\n",
    "    indicator_id_value = 1\n",
    "\n",
    "electricity_with_indicators = electricity_with_time.withColumn(\"indicator_id\", lit(indicator_id_value))\n",
    "\n",
    "print(f\"Added indicator foreign keys (using indicator_id: {indicator_id_value})\")\n",
    "print(f\"Final records with all foreign keys: {electricity_with_indicators.count():,}\")"
   ]
  },
  {
   "cell_type": "markdown",
   "metadata": {},
   "source": [
    "## Create Final Electricity Pricing Fact Table"
   ]
  },
  {
   "cell_type": "code",
   "execution_count": 13,
   "metadata": {},
   "outputs": [
    {
     "name": "stdout",
     "output_type": "stream",
     "text": [
      "Final electricity pricing fact table: 384 records\n",
      "\n",
      "Final schema:\n",
      "root\n",
      " |-- electricity_pricing_id: integer (nullable = false)\n",
      " |-- location_id: integer (nullable = true)\n",
      " |-- date_id: long (nullable = true)\n",
      " |-- indicator_id: integer (nullable = false)\n",
      " |-- price_date: date (nullable = true)\n",
      " |-- year: integer (nullable = true)\n",
      " |-- month: integer (nullable = true)\n",
      " |-- customer_segment: string (nullable = true)\n",
      " |-- rate_per_kwh: double (nullable = true)\n",
      " |-- rate_change_percentage: double (nullable = true)\n",
      " |-- rate_tier: string (nullable = false)\n",
      " |-- unit_of_measure: string (nullable = true)\n",
      " |-- rate_type: string (nullable = true)\n",
      " |-- rate_category: string (nullable = true)\n",
      " |-- is_current_rate: boolean (nullable = false)\n",
      " |-- data_quality_score: double (nullable = false)\n",
      " |-- data_source: string (nullable = true)\n",
      " |-- source_dataset: string (nullable = true)\n",
      " |-- created_at: timestamp (nullable = false)\n",
      " |-- updated_at: timestamp (nullable = false)\n",
      "\n",
      "\n",
      "Sample fact records:\n",
      "+----------------------+-----------+-------+------------+----------+----+-----+----------------+------------+----------------------+---------+---------------+---------+------------------+---------------+------------------+-----------+-----------------------------+--------------------------+--------------------------+\n",
      "|electricity_pricing_id|location_id|date_id|indicator_id|price_date|year|month|customer_segment|rate_per_kwh|rate_change_percentage|rate_tier|unit_of_measure|rate_type|rate_category     |is_current_rate|data_quality_score|data_source|source_dataset               |created_at                |updated_at                |\n",
      "+----------------------+-----------+-------+------------+----------+----+-----+----------------+------------+----------------------+---------+---------------+---------+------------------+---------------+------------------+-----------+-----------------------------+--------------------------+--------------------------+\n",
      "|1                     |6          |519    |1           |2023-03-15|2023|3    |Blended         |8.88        |null                  |Medium   |PHP per kWh    |published|electricity_tariff|true           |0.95              |DOE        |electricity_rates_blended    |2025-08-19 02:17:55.735794|2025-08-19 02:17:55.735794|\n",
      "|2                     |6          |519    |1           |2023-03-15|2023|3    |Commercial      |8.85        |null                  |Medium   |PHP per kWh    |published|electricity_tariff|true           |0.95              |DOE        |electricity_rates_commercial |2025-08-19 02:17:55.735794|2025-08-19 02:17:55.735794|\n",
      "|3                     |6          |519    |1           |2023-03-15|2023|3    |Industrial      |8.28        |null                  |Medium   |PHP per kWh    |published|electricity_tariff|true           |0.95              |DOE        |electricity_rates_industrial |2025-08-19 02:17:55.735794|2025-08-19 02:17:55.735794|\n",
      "|4                     |6          |519    |1           |2023-03-15|2023|3    |Residential     |9.85        |null                  |Medium   |PHP per kWh    |published|electricity_tariff|true           |0.95              |DOE        |electricity_rates_residential|2025-08-19 02:17:55.735794|2025-08-19 02:17:55.735794|\n",
      "|5                     |6          |522    |1           |2023-06-15|2023|6    |Blended         |9.13        |null                  |Medium   |PHP per kWh    |published|electricity_tariff|true           |0.95              |DOE        |electricity_rates_blended    |2025-08-19 02:17:55.735794|2025-08-19 02:17:55.735794|\n",
      "+----------------------+-----------+-------+------------+----------+----+-----+----------------+------------+----------------------+---------+---------------+---------+------------------+---------------+------------------+-----------+-----------------------------+--------------------------+--------------------------+\n",
      "only showing top 5 rows\n",
      "\n"
     ]
    }
   ],
   "source": [
    "# Add final fact table columns\n",
    "final_electricity_fact = electricity_with_indicators.withColumn(\n",
    "    \"electricity_pricing_id\", \n",
    "    row_number().over(Window.orderBy(\"location_id\", \"date_id\", \"customer_segment\", \"price_date\"))\n",
    ").withColumn(\n",
    "    \"rate_per_kwh\", col(\"electricity_rate\")\n",
    ").withColumn(\n",
    "    \"rate_change_percentage\", lit(None).cast(DoubleType())\n",
    ").withColumn(\n",
    "    \"rate_tier\", \n",
    "    when(col(\"electricity_rate\") < 8.0, \"Low\")\n",
    "    .when(col(\"electricity_rate\") < 10.0, \"Medium\")\n",
    "    .otherwise(\"High\")\n",
    ").withColumn(\n",
    "    \"is_current_rate\", lit(True).cast(BooleanType())\n",
    ").withColumn(\n",
    "    \"data_quality_score\", lit(0.95).cast(DoubleType())\n",
    ").withColumn(\n",
    "    \"created_at\", lit(PROCESSING_TIMESTAMP).cast(TimestampType())\n",
    ").withColumn(\n",
    "    \"updated_at\", lit(PROCESSING_TIMESTAMP).cast(TimestampType())\n",
    ")\n",
    "\n",
    "# Select final columns in correct order (keeping year for partitioning)\n",
    "final_electricity_fact = final_electricity_fact.select(\n",
    "    \"electricity_pricing_id\",\n",
    "    \"location_id\",\n",
    "    \"date_id\",\n",
    "    \"indicator_id\",\n",
    "    \"price_date\",\n",
    "    \"year\",\n",
    "    \"month\",\n",
    "    \"customer_segment\",\n",
    "    \"rate_per_kwh\",\n",
    "    \"rate_change_percentage\",\n",
    "    \"rate_tier\",\n",
    "    \"unit_of_measure\",\n",
    "    \"rate_type\",\n",
    "    \"rate_category\",\n",
    "    \"is_current_rate\",\n",
    "    \"data_quality_score\",\n",
    "    \"data_source\",\n",
    "    \"source_dataset\",\n",
    "    \"created_at\",\n",
    "    \"updated_at\"\n",
    ")\n",
    "\n",
    "print(f\"Final electricity pricing fact table: {final_electricity_fact.count():,} records\")\n",
    "print(\"\\nFinal schema:\")\n",
    "final_electricity_fact.printSchema()\n",
    "\n",
    "print(\"\\nSample fact records:\")\n",
    "final_electricity_fact.show(5, truncate=False)"
   ]
  },
  {
   "cell_type": "markdown",
   "metadata": {},
   "source": [
    "## Save Electricity Pricing Fact Table"
   ]
  },
  {
   "cell_type": "code",
   "execution_count": 14,
   "metadata": {},
   "outputs": [
    {
     "name": "stderr",
     "output_type": "stream",
     "text": [
      "                                                                                \r"
     ]
    },
    {
     "name": "stdout",
     "output_type": "stream",
     "text": [
      "\n",
      "Electricity pricing fact table saved successfully!\n",
      "Path: /home/ernese/miniconda3/envs/SO/New_SO/final-spark-silver/fact_electricity_pricing\n",
      "Records: 384\n"
     ]
    }
   ],
   "source": [
    "# Save electricity pricing fact table\n",
    "fact_electricity_path = os.path.join(SILVER_PATH, \"fact_electricity_pricing\")\n",
    "\n",
    "try:\n",
    "    final_electricity_fact.write \\\n",
    "        .format(\"delta\") \\\n",
    "        .mode(\"overwrite\") \\\n",
    "        .option(\"overwriteSchema\", \"true\") \\\n",
    "        .partitionBy(\"year\", \"customer_segment\") \\\n",
    "        .save(fact_electricity_path)\n",
    "    \n",
    "    print(f\"\\nElectricity pricing fact table saved successfully!\")\n",
    "    print(f\"Path: {fact_electricity_path}\")\n",
    "    print(f\"Records: {final_electricity_fact.count():,}\")\n",
    "    \n",
    "except Exception as e:\n",
    "    print(f\"Error saving electricity pricing fact table: {e}\")\n",
    "    # Try saving as parquet if delta fails\n",
    "    try:\n",
    "        parquet_path = fact_electricity_path + \"_parquet\"\n",
    "        final_electricity_fact.write.format(\"parquet\").mode(\"overwrite\").partitionBy(\"year\", \"customer_segment\").save(parquet_path)\n",
    "        print(f\"Saved as parquet instead: {parquet_path}\")\n",
    "    except Exception as e2:\n",
    "        print(f\"Failed to save as parquet too: {e2}\")\n",
    "        raise"
   ]
  },
  {
   "cell_type": "markdown",
   "metadata": {},
   "source": [
    "## Data Quality Analysis"
   ]
  },
  {
   "cell_type": "code",
   "execution_count": 15,
   "metadata": {},
   "outputs": [
    {
     "name": "stdout",
     "output_type": "stream",
     "text": [
      "Electricity Pricing Fact Table - Data Quality Analysis\n",
      "============================================================\n",
      "Total Records: 384\n",
      "\n",
      "Temporal Coverage:\n",
      "+----+-----+\n",
      "|year|count|\n",
      "+----+-----+\n",
      "|2023|  192|\n",
      "|2024|  192|\n",
      "+----+-----+\n",
      "\n",
      "\n",
      "Customer Segment Distribution:\n",
      "+----------------+-----+\n",
      "|customer_segment|count|\n",
      "+----------------+-----+\n",
      "|     Residential|   96|\n",
      "|      Industrial|   96|\n",
      "|         Blended|   96|\n",
      "|      Commercial|   96|\n",
      "+----------------+-----+\n",
      "\n",
      "\n",
      "Rate Tier Distribution:\n",
      "+---------+-----+\n",
      "|rate_tier|count|\n",
      "+---------+-----+\n",
      "|     High|   88|\n",
      "|      Low|   57|\n",
      "|   Medium|  239|\n",
      "+---------+-----+\n",
      "\n",
      "\n",
      "Rate Statistics by Customer Segment:\n",
      "+----------------+-----------------+--------+--------+-------------------+------------+\n",
      "|customer_segment|         avg_rate|min_rate|max_rate|        stddev_rate|record_count|\n",
      "+----------------+-----------------+--------+--------+-------------------+------------+\n",
      "|         Blended|8.696041666666668|    7.73|   10.02| 0.5738227842455352|          96|\n",
      "|      Commercial|9.195937499999998|    8.26|   10.51| 0.5095376193435729|          96|\n",
      "|      Industrial|            7.995|     7.2|     8.7|0.40534325934291376|          96|\n",
      "|     Residential|        10.720625|     9.5|   11.78|  0.637405617368275|          96|\n",
      "+----------------+-----------------+--------+--------+-------------------+------------+\n",
      "\n",
      "\n",
      "Top 10 Locations by Record Count:\n",
      "+-----------------------+-----+\n",
      "|location_name          |count|\n",
      "+-----------------------+-----+\n",
      "|Central Luzon          |32   |\n",
      "|Philippines            |32   |\n",
      "|Calabarzon             |32   |\n",
      "|National Capital Region|32   |\n",
      "|Northern Mindanao      |32   |\n",
      "|Central Visayas        |32   |\n",
      "|Davao Region           |32   |\n",
      "|Western Visayas        |32   |\n",
      "|Manila                 |32   |\n",
      "|Quezon City            |32   |\n",
      "+-----------------------+-----+\n",
      "\n",
      "\n",
      "Foreign Key Validation:\n",
      "+----------------+------------+-----------------+-----------------+-------------+------------------+\n",
      "|unique_locations|unique_dates|unique_indicators|null_location_ids|null_date_ids|null_indicator_ids|\n",
      "+----------------+------------+-----------------+-----------------+-------------+------------------+\n",
      "|              12|           8|                1|                0|            0|                 0|\n",
      "+----------------+------------+-----------------+-----------------+-------------+------------------+\n",
      "\n"
     ]
    }
   ],
   "source": [
    "# Generate comprehensive data quality analysis\n",
    "print(\"Electricity Pricing Fact Table - Data Quality Analysis\")\n",
    "print(\"=\" * 60)\n",
    "\n",
    "# Basic statistics\n",
    "total_records = final_electricity_fact.count()\n",
    "print(f\"Total Records: {total_records:,}\")\n",
    "\n",
    "# Temporal coverage\n",
    "print(\"\\nTemporal Coverage:\")\n",
    "final_electricity_fact.groupBy(\"year\").count().orderBy(\"year\").show()\n",
    "\n",
    "# Customer segment distribution\n",
    "print(\"\\nCustomer Segment Distribution:\")\n",
    "final_electricity_fact.groupBy(\"customer_segment\").count().orderBy(desc(\"count\")).show()\n",
    "\n",
    "# Rate tier distribution\n",
    "print(\"\\nRate Tier Distribution:\")\n",
    "final_electricity_fact.groupBy(\"rate_tier\").count().orderBy(\"rate_tier\").show()\n",
    "\n",
    "# Rate statistics by customer segment\n",
    "print(\"\\nRate Statistics by Customer Segment:\")\n",
    "segment_stats = final_electricity_fact.groupBy(\"customer_segment\").agg(\n",
    "    avg(\"rate_per_kwh\").alias(\"avg_rate\"),\n",
    "    min(\"rate_per_kwh\").alias(\"min_rate\"),\n",
    "    max(\"rate_per_kwh\").alias(\"max_rate\"),\n",
    "    stddev(\"rate_per_kwh\").alias(\"stddev_rate\"),\n",
    "    count(\"*\").alias(\"record_count\")\n",
    ").orderBy(\"customer_segment\")\n",
    "segment_stats.show()\n",
    "\n",
    "# Location distribution (top 10)\n",
    "print(\"\\nTop 10 Locations by Record Count:\")\n",
    "location_dist = final_electricity_fact.join(\n",
    "    dim_location.select(\"location_id\", \"location_name\"),\n",
    "    \"location_id\"\n",
    ").groupBy(\"location_name\").count().orderBy(desc(\"count\")).limit(10)\n",
    "location_dist.show(truncate=False)\n",
    "\n",
    "# Foreign key validation\n",
    "print(\"\\nForeign Key Validation:\")\n",
    "final_electricity_fact.agg(\n",
    "    countDistinct(\"location_id\").alias(\"unique_locations\"),\n",
    "    countDistinct(\"date_id\").alias(\"unique_dates\"),\n",
    "    countDistinct(\"indicator_id\").alias(\"unique_indicators\"),\n",
    "    sum(when(col(\"location_id\").isNull(), 1).otherwise(0)).alias(\"null_location_ids\"),\n",
    "    sum(when(col(\"date_id\").isNull(), 1).otherwise(0)).alias(\"null_date_ids\"),\n",
    "    sum(when(col(\"indicator_id\").isNull(), 1).otherwise(0)).alias(\"null_indicator_ids\")\n",
    ").show()"
   ]
  },
  {
   "cell_type": "markdown",
   "metadata": {},
   "source": [
    "## Final Validation"
   ]
  },
  {
   "cell_type": "code",
   "execution_count": 16,
   "metadata": {},
   "outputs": [
    {
     "name": "stdout",
     "output_type": "stream",
     "text": [
      "\n",
      "Validation: Successfully created fact_electricity_pricing with 384 records\n",
      "\n",
      "Sample query with dimension joins:\n",
      "Validation failed: [AMBIGUOUS_REFERENCE] Reference `year` is ambiguous, could be: [`year`, `year`].\n"
     ]
    }
   ],
   "source": [
    "# Final validation with dimension joins\n",
    "try:\n",
    "    # Validate the saved table\n",
    "    test_df = spark.read.format(\"delta\").load(fact_electricity_path)\n",
    "    count = test_df.count()\n",
    "    print(f\"\\nValidation: Successfully created fact_electricity_pricing with {count:,} records\")\n",
    "    \n",
    "    # Test a sample query joining with dimensions\n",
    "    print(\"\\nSample query with dimension joins:\")\n",
    "    sample_query = test_df.join(\n",
    "        dim_location.select(\"location_id\", \"location_name\"),\n",
    "        \"location_id\"\n",
    "    ).join(\n",
    "        dim_time.select(\"date_id\", \"year\", \"month\"),\n",
    "        \"date_id\"\n",
    "    ).join(\n",
    "        dim_indicator.select(\"indicator_id\", \"indicator_name\"),\n",
    "        \"indicator_id\"\n",
    "    ).select(\n",
    "        \"location_name\", \"year\", \"month\", \"customer_segment\", \"rate_per_kwh\", \n",
    "        \"unit_of_measure\", \"rate_tier\", \"indicator_name\"\n",
    "    ).limit(5)\n",
    "    \n",
    "    sample_query.show(truncate=False)\n",
    "    \n",
    "    print(\"\\nPartition validation:\")\n",
    "    partition_count = test_df.select(\"year\", \"customer_segment\").distinct().count()\n",
    "    print(f\"Total partitions created: {partition_count}\")\n",
    "    \n",
    "except Exception as e:\n",
    "    print(f\"Validation failed: {e}\")"
   ]
  },
  {
   "cell_type": "code",
   "execution_count": 17,
   "metadata": {},
   "outputs": [
    {
     "name": "stdout",
     "output_type": "stream",
     "text": [
      "\n",
      "======================================================================\n",
      "ELECTRICITY PRICING FACT TABLE PROCESSING SUMMARY\n",
      "======================================================================\n",
      "Processing completed: 2025-08-19 02:17:55.735794\n",
      "Total fact records: 384\n",
      "Customer segments: 4 (Residential, Commercial, Industrial, Blended)\n",
      "Locations: 12 (National and regional coverage)\n",
      "Time periods: 8 (2023-2024, quarterly)\n",
      "Partitions: 8 (2 years x 4 segments)\n",
      "Output path: /home/ernese/miniconda3/envs/SO/New_SO/final-spark-silver/fact_electricity_pricing\n",
      "Electricity pricing fact table ready for analysis!\n",
      "\n",
      "Spark session stopped.\n"
     ]
    }
   ],
   "source": [
    "# Summary and cleanup\n",
    "print(f\"\\n{'='*70}\")\n",
    "print(\"ELECTRICITY PRICING FACT TABLE PROCESSING SUMMARY\")\n",
    "print(f\"{'='*70}\")\n",
    "print(f\"Processing completed: {PROCESSING_TIMESTAMP}\")\n",
    "print(f\"Total fact records: {len(clean_electricity_facts):,}\")\n",
    "print(f\"Customer segments: 4 (Residential, Commercial, Industrial, Blended)\")\n",
    "print(f\"Locations: 12 (National and regional coverage)\")\n",
    "print(f\"Time periods: 8 (2023-2024, quarterly)\")\n",
    "print(f\"Partitions: 8 (2 years x 4 segments)\")\n",
    "print(f\"Output path: {fact_electricity_path}\")\n",
    "print(\"Electricity pricing fact table ready for analysis!\")\n",
    "\n",
    "# Stop Spark session\n",
    "spark.stop()\n",
    "print(\"\\nSpark session stopped.\")"
   ]
  }
 ],
 "metadata": {
  "kernelspec": {
   "display_name": "SO",
   "language": "python",
   "name": "python3"
  },
  "language_info": {
   "codemirror_mode": {
    "name": "ipython",
    "version": 3
   },
   "file_extension": ".py",
   "mimetype": "text/x-python",
   "name": "python",
   "nbconvert_exporter": "python",
   "pygments_lexer": "ipython3",
   "version": "3.10.18"
  }
 },
 "nbformat": 4,
 "nbformat_minor": 4
}
